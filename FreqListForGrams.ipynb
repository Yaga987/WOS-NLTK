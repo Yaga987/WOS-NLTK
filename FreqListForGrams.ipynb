{
  "nbformat": 4,
  "nbformat_minor": 0,
  "metadata": {
    "colab": {
      "provenance": [],
      "collapsed_sections": []
    },
    "kernelspec": {
      "name": "python3",
      "display_name": "Python 3"
    },
    "language_info": {
      "name": "python"
    },
    "accelerator": "TPU",
    "gpuClass": "standard"
  },
  "cells": [
    {
      "cell_type": "code",
      "source": [
        "# with open('/content/drive/MyDrive/WS/Çıktılar/DataN5grams.json') as fin:\n",
        "#     fin.seek(0)\n",
        "#     data = fin.read(10000 - 0)\n",
        "#     Lines = data.read"
      ],
      "metadata": {
        "id": "Nhm15yh9_jjC"
      },
      "execution_count": null,
      "outputs": []
    },
    {
      "cell_type": "code",
      "source": [
        "# f = open ( '/content/drive/MyDrive/WS/Çıktılar/DataN5grams.json' , 'r')\n",
        "# l = [ map(float,line.strip().split()) for line in f ]\n",
        "\n",
        "# no_samples = len(l)\n",
        "\n",
        "# data1 = l[0:int(no_samples/3)][:]\n",
        "\n",
        "# data2 = l[int(no_samples/3):int(no_samples*2/3)][:]\n",
        "\n",
        "# data3 = l[int(no_samples*2/3):no_samples][:]\n",
        "\n",
        "# file = open('data1.json','w')\n",
        "# for row in data1: \n",
        "#     file.writelines([\"%s\\t\" % item for item in row]) \n",
        "#     file.writelines(\"\\n\") \n",
        "# file.close() "
      ],
      "metadata": {
        "id": "NrGHK5vq-bOz"
      },
      "execution_count": null,
      "outputs": []
    },
    {
      "cell_type": "code",
      "execution_count": null,
      "metadata": {
        "id": "39psoNwL3ijJ"
      },
      "outputs": [],
      "source": [
        "# with open('/content/drive/MyDrive/WS/Çıktılar/DataN5grams.json', 'r', encoding='utf-8')as f:\n",
        "#   Lines = f.readlines()\n",
        "#   df = pd.DataFrame(Lines,columns=['word'])"
      ]
    },
    {
      "cell_type": "code",
      "source": [
        "# import numpy as np\n",
        "# Lines = 56.000.022\n",
        "# splits = np.array_split(Lines, 1000000)\n",
        "\n",
        "# for array in splits:\n",
        "#     print(len(array))"
      ],
      "metadata": {
        "id": "5G0auWPl8w0K"
      },
      "execution_count": null,
      "outputs": []
    },
    {
      "cell_type": "code",
      "source": [
        "# length = len(Lines)\n",
        "\n",
        "# middle_index = length // 2\n",
        "\n",
        "# first_half = Lines[:middle_index]\n",
        "# second_half = Lines[middle_index:]"
      ],
      "metadata": {
        "id": "qidM4YAy7mTD"
      },
      "execution_count": null,
      "outputs": []
    },
    {
      "cell_type": "code",
      "source": [
        "# fp = open(filepath)\n",
        "# for x in range(1,57):\n",
        "#   for i, line in enumerate(fp):\n",
        "#       if i == x * 1000000:\n",
        "#         Lines = fp.readlines()\n",
        "#         ndf = pd.DataFrame(Lines,columns=['word'])\n",
        "#         df.append(ndf)\n",
        "#       elif i > x * 1000000:\n",
        "#           break"
      ],
      "metadata": {
        "id": "Ilm07T73CQPi"
      },
      "execution_count": null,
      "outputs": []
    },
    {
      "cell_type": "code",
      "source": [
        "# dfn = pd.DataFrame(columns=['word'])"
      ],
      "metadata": {
        "id": "ASr1vPf7B3fh"
      },
      "execution_count": null,
      "outputs": []
    },
    {
      "cell_type": "code",
      "source": [
        "# df2 = pd.DataFrame({\"a\":[1, 2, 3, 4],\n",
        "#                     \"b\":[5, 6, 7, 8]})\n",
        "# df3 = pd.DataFrame({\"a\":[16, 25, 34, 47],\n",
        "#                     \"b\":[85, 86, 87, 83]})"
      ],
      "metadata": {
        "id": "7H99DodeDaON"
      },
      "execution_count": null,
      "outputs": []
    },
    {
      "cell_type": "code",
      "source": [
        "# dfn = dfn.append(df2, ignore_index = True)"
      ],
      "metadata": {
        "id": "fCWlFsKcDX8q"
      },
      "execution_count": null,
      "outputs": []
    },
    {
      "cell_type": "code",
      "source": [
        "# dfn"
      ],
      "metadata": {
        "id": "kAnVF8VxDYaI"
      },
      "execution_count": null,
      "outputs": []
    },
    {
      "cell_type": "code",
      "source": [
        "# dfn = dfn.append(df3, ignore_index = True)"
      ],
      "metadata": {
        "id": "iweQMwHFDo0b"
      },
      "execution_count": null,
      "outputs": []
    },
    {
      "cell_type": "code",
      "source": [
        "# dfn"
      ],
      "metadata": {
        "id": "SZ50pEy9DoJx"
      },
      "execution_count": null,
      "outputs": []
    },
    {
      "cell_type": "code",
      "source": [
        "# with open('/content/drive/MyDrive/WS/Çıktılar/DataN5grams.json', 'r', encoding='utf-8')as f:\n",
        "#   Lines = f.readlines()"
      ],
      "metadata": {
        "id": "l7CykAy_CUbq"
      },
      "execution_count": null,
      "outputs": []
    },
    {
      "cell_type": "code",
      "source": [
        "# len(Lines)"
      ],
      "metadata": {
        "id": "5IN18hqDAr2R"
      },
      "execution_count": null,
      "outputs": []
    },
    {
      "cell_type": "code",
      "source": [
        "# converted_list = []\n",
        "\n",
        "# for y in range(0,56001):\n",
        "#   start = y*1000\n",
        "#   end = (y*1000)+999\n",
        "#   for element in Lines[start:end]:\n",
        "#       converted_list.append(element.strip())"
      ],
      "metadata": {
        "id": "eZ9ba42bh5vp"
      },
      "execution_count": null,
      "outputs": []
    },
    {
      "cell_type": "code",
      "source": [
        "# len(converted_list)"
      ],
      "metadata": {
        "id": "FJWBp8urh6U5"
      },
      "execution_count": null,
      "outputs": []
    },
    {
      "cell_type": "code",
      "source": [
        "# converted_list = [s.strip(',') for s in converted_list]\n",
        "# # converted_list = [s.replace(',', '') for s in converted_list]\n",
        "# converted_list = [s.strip(',') for s in converted_list]\n",
        "# # converted_list = [s.replace('[', '') for s in converted_list]\n",
        "# converted_list = [s.strip(',') for s in converted_list]\n",
        "# # converted_list = [s.replace(']', '') for s in converted_list]"
      ],
      "metadata": {
        "id": "9_tEaurEh755"
      },
      "execution_count": null,
      "outputs": []
    },
    {
      "cell_type": "code",
      "source": [
        "# len(converted_list)"
      ],
      "metadata": {
        "id": "CjaYnKH4iD4B"
      },
      "execution_count": null,
      "outputs": []
    },
    {
      "cell_type": "code",
      "source": [
        "# df = pd.DataFrame(columns=['word'])"
      ],
      "metadata": {
        "id": "8Fh66k28EEsL"
      },
      "execution_count": null,
      "outputs": []
    },
    {
      "cell_type": "code",
      "source": [
        "# for x in range(0,56001):\n",
        "#     try:\n",
        "#     start = x*1000\n",
        "#     end = (x*1000)+999\n",
        "#     df1 = pd.DataFrame(converted_list[start:end],columns=['word'])\n",
        "#     df = df.append(df1, ignore_index = True)\n",
        "#     print(x)\n",
        "#   except:\n",
        "#     pass"
      ],
      "metadata": {
        "id": "7L4eUpPXCYYt"
      },
      "execution_count": null,
      "outputs": []
    },
    {
      "cell_type": "code",
      "source": [
        "# import numpy as np\n",
        "# df['word'].replace('', np.nan, inplace=True)\n",
        "# df.dropna(subset=['word'], inplace=True)\n",
        "# df = df.reset_index(drop=True)\n",
        "# df.index += 1"
      ],
      "metadata": {
        "id": "lpdHPCNMiJdK"
      },
      "execution_count": null,
      "outputs": []
    },
    {
      "cell_type": "code",
      "source": [
        "# data = pd.DataFrame(df.word.str.split(':',1).tolist(),columns = ['word','freq'])"
      ],
      "metadata": {
        "id": "74gr0iAB5bak"
      },
      "execution_count": null,
      "outputs": []
    },
    {
      "cell_type": "code",
      "source": [
        "# Lines.remove('    \"\": 1452652,\\n')\n",
        "# Lines.remove('{\\n')"
      ],
      "metadata": {
        "id": "0kAEDv913qSv"
      },
      "execution_count": null,
      "outputs": []
    },
    {
      "cell_type": "code",
      "source": [
        "# mydict = {\n",
        "#     'myword1' : [],\n",
        "#     'myword2' : [],\n",
        "#     'myword3' : [],\n",
        "#     'myword4' : [],\n",
        "#     'myword5' : [],\n",
        "#     'myfreq' : []\n",
        "# }"
      ],
      "metadata": {
        "id": "wDovQA5eIvy6"
      },
      "execution_count": null,
      "outputs": []
    },
    {
      "cell_type": "code",
      "source": [
        "# # data = pd.DataFrame(columns = ['word - 1', 'word - 2', 'word - 3', 'word - 4', 'word - 5', 'freq'])\n",
        "\n",
        "# dfc = df.copy()\n",
        "# dfc.columns = ['']\n",
        "# # df.set_index('Name', inplace=True)\n",
        "\n",
        "# for t in range(0,12000):\n",
        "#   v = ''\n",
        "#   if t // 6 == 0:\n",
        "#     v = (dfc.iloc[[t]].to_string(header=None, index=False))\n",
        "#     mydict['myword5'].append(v)\n",
        "#   elif t // 6 == 1:\n",
        "#     v = (dfc.iloc[[t]].to_string(header=None, index=False))\n",
        "#     mydict['myword1'].append(v)\n",
        "#   elif t // 6 == 2:\n",
        "#     v = (dfc.iloc[[t]].to_string(header=None, index=False))\n",
        "#     mydict['myword2'].append(v)\n",
        "#   elif t // 6 == 3:\n",
        "#     v = (dfc.iloc[[t]].to_string(header=None, index=False))\n",
        "#     mydict['myword3'].append(v)\n",
        "#   elif t // 6 == 4:\n",
        "#     v = (dfc.iloc[[t]].to_string(header=None, index=False))\n",
        "#     mydict['myword4'].append(v)\n",
        "#   elif t // 6 == 5:\n",
        "#     v = (dfc.iloc[[t]].to_string(header=None, index=False))\n",
        "#     mydict['myfreq'].append(v)"
      ],
      "metadata": {
        "id": "iFtB0aaFIxUy"
      },
      "execution_count": null,
      "outputs": []
    },
    {
      "cell_type": "code",
      "source": [
        "# data = pd.DataFrame(mydict)"
      ],
      "metadata": {
        "id": "FMeZk2WeI1cx"
      },
      "execution_count": null,
      "outputs": []
    },
    {
      "cell_type": "code",
      "source": [
        "name = 'N5'"
      ],
      "metadata": {
        "id": "4KEFx8VAJ_hJ"
      },
      "execution_count": null,
      "outputs": []
    },
    {
      "cell_type": "code",
      "source": [
        "import pandas as pd"
      ],
      "metadata": {
        "id": "oFQW3XL93q8K"
      },
      "execution_count": null,
      "outputs": []
    },
    {
      "cell_type": "code",
      "source": [
        "filepath = r'/content/drive/MyDrive/WS/Çıktılar/Data' + name + 'grams.json'"
      ],
      "metadata": {
        "id": "KUmdqdg7AOaB"
      },
      "execution_count": null,
      "outputs": []
    },
    {
      "cell_type": "code",
      "source": [
        "df = pd.read_json(filepath)"
      ],
      "metadata": {
        "id": "ZLYy7gRtg9HX"
      },
      "execution_count": null,
      "outputs": []
    },
    {
      "cell_type": "code",
      "source": [
        "df.shape"
      ],
      "metadata": {
        "colab": {
          "base_uri": "https://localhost:8080/"
        },
        "id": "CL93MeUjAHvS",
        "outputId": "08ecb461-beb3-46f2-c85f-b6ac47984131"
      },
      "execution_count": null,
      "outputs": [
        {
          "output_type": "execute_result",
          "data": {
            "text/plain": [
              "(5600002, 2)"
            ]
          },
          "metadata": {},
          "execution_count": 31
        }
      ]
    },
    {
      "cell_type": "code",
      "source": [
        "full_data = pd.DataFrame(columns=['Words','Freq'])\n",
        "full_data.Words = df[0]\n",
        "full_data['Freq'] = df[1]"
      ],
      "metadata": {
        "id": "74BhiZt3lKqI"
      },
      "execution_count": null,
      "outputs": []
    },
    {
      "cell_type": "code",
      "source": [
        "full_data.head()"
      ],
      "metadata": {
        "colab": {
          "base_uri": "https://localhost:8080/",
          "height": 206
        },
        "id": "cEw0lUaUlLr_",
        "outputId": "67df9c23-4eb5-4f75-895d-afe2774bccce"
      },
      "execution_count": null,
      "outputs": [
        {
          "output_type": "execute_result",
          "data": {
            "text/plain": [
              "                                               Words  Freq\n",
              "0  [1dimensional, nonlinear, optical, wave, coher...     1\n",
              "1    [nonlinear, optical, wave, coherently, excited]     1\n",
              "2     [optical, wave, coherently, excited, resonant]     1\n",
              "3      [wave, coherently, excited, resonant, medium]     1\n",
              "4     [coherently, excited, resonant, medium, doped]     1"
            ],
            "text/html": [
              "\n",
              "  <div id=\"df-9bed8df1-4f4d-4014-bef6-4e361c061ae7\">\n",
              "    <div class=\"colab-df-container\">\n",
              "      <div>\n",
              "<style scoped>\n",
              "    .dataframe tbody tr th:only-of-type {\n",
              "        vertical-align: middle;\n",
              "    }\n",
              "\n",
              "    .dataframe tbody tr th {\n",
              "        vertical-align: top;\n",
              "    }\n",
              "\n",
              "    .dataframe thead th {\n",
              "        text-align: right;\n",
              "    }\n",
              "</style>\n",
              "<table border=\"1\" class=\"dataframe\">\n",
              "  <thead>\n",
              "    <tr style=\"text-align: right;\">\n",
              "      <th></th>\n",
              "      <th>Words</th>\n",
              "      <th>Freq</th>\n",
              "    </tr>\n",
              "  </thead>\n",
              "  <tbody>\n",
              "    <tr>\n",
              "      <th>0</th>\n",
              "      <td>[1dimensional, nonlinear, optical, wave, coher...</td>\n",
              "      <td>1</td>\n",
              "    </tr>\n",
              "    <tr>\n",
              "      <th>1</th>\n",
              "      <td>[nonlinear, optical, wave, coherently, excited]</td>\n",
              "      <td>1</td>\n",
              "    </tr>\n",
              "    <tr>\n",
              "      <th>2</th>\n",
              "      <td>[optical, wave, coherently, excited, resonant]</td>\n",
              "      <td>1</td>\n",
              "    </tr>\n",
              "    <tr>\n",
              "      <th>3</th>\n",
              "      <td>[wave, coherently, excited, resonant, medium]</td>\n",
              "      <td>1</td>\n",
              "    </tr>\n",
              "    <tr>\n",
              "      <th>4</th>\n",
              "      <td>[coherently, excited, resonant, medium, doped]</td>\n",
              "      <td>1</td>\n",
              "    </tr>\n",
              "  </tbody>\n",
              "</table>\n",
              "</div>\n",
              "      <button class=\"colab-df-convert\" onclick=\"convertToInteractive('df-9bed8df1-4f4d-4014-bef6-4e361c061ae7')\"\n",
              "              title=\"Convert this dataframe to an interactive table.\"\n",
              "              style=\"display:none;\">\n",
              "        \n",
              "  <svg xmlns=\"http://www.w3.org/2000/svg\" height=\"24px\"viewBox=\"0 0 24 24\"\n",
              "       width=\"24px\">\n",
              "    <path d=\"M0 0h24v24H0V0z\" fill=\"none\"/>\n",
              "    <path d=\"M18.56 5.44l.94 2.06.94-2.06 2.06-.94-2.06-.94-.94-2.06-.94 2.06-2.06.94zm-11 1L8.5 8.5l.94-2.06 2.06-.94-2.06-.94L8.5 2.5l-.94 2.06-2.06.94zm10 10l.94 2.06.94-2.06 2.06-.94-2.06-.94-.94-2.06-.94 2.06-2.06.94z\"/><path d=\"M17.41 7.96l-1.37-1.37c-.4-.4-.92-.59-1.43-.59-.52 0-1.04.2-1.43.59L10.3 9.45l-7.72 7.72c-.78.78-.78 2.05 0 2.83L4 21.41c.39.39.9.59 1.41.59.51 0 1.02-.2 1.41-.59l7.78-7.78 2.81-2.81c.8-.78.8-2.07 0-2.86zM5.41 20L4 18.59l7.72-7.72 1.47 1.35L5.41 20z\"/>\n",
              "  </svg>\n",
              "      </button>\n",
              "      \n",
              "  <style>\n",
              "    .colab-df-container {\n",
              "      display:flex;\n",
              "      flex-wrap:wrap;\n",
              "      gap: 12px;\n",
              "    }\n",
              "\n",
              "    .colab-df-convert {\n",
              "      background-color: #E8F0FE;\n",
              "      border: none;\n",
              "      border-radius: 50%;\n",
              "      cursor: pointer;\n",
              "      display: none;\n",
              "      fill: #1967D2;\n",
              "      height: 32px;\n",
              "      padding: 0 0 0 0;\n",
              "      width: 32px;\n",
              "    }\n",
              "\n",
              "    .colab-df-convert:hover {\n",
              "      background-color: #E2EBFA;\n",
              "      box-shadow: 0px 1px 2px rgba(60, 64, 67, 0.3), 0px 1px 3px 1px rgba(60, 64, 67, 0.15);\n",
              "      fill: #174EA6;\n",
              "    }\n",
              "\n",
              "    [theme=dark] .colab-df-convert {\n",
              "      background-color: #3B4455;\n",
              "      fill: #D2E3FC;\n",
              "    }\n",
              "\n",
              "    [theme=dark] .colab-df-convert:hover {\n",
              "      background-color: #434B5C;\n",
              "      box-shadow: 0px 1px 3px 1px rgba(0, 0, 0, 0.15);\n",
              "      filter: drop-shadow(0px 1px 2px rgba(0, 0, 0, 0.3));\n",
              "      fill: #FFFFFF;\n",
              "    }\n",
              "  </style>\n",
              "\n",
              "      <script>\n",
              "        const buttonEl =\n",
              "          document.querySelector('#df-9bed8df1-4f4d-4014-bef6-4e361c061ae7 button.colab-df-convert');\n",
              "        buttonEl.style.display =\n",
              "          google.colab.kernel.accessAllowed ? 'block' : 'none';\n",
              "\n",
              "        async function convertToInteractive(key) {\n",
              "          const element = document.querySelector('#df-9bed8df1-4f4d-4014-bef6-4e361c061ae7');\n",
              "          const dataTable =\n",
              "            await google.colab.kernel.invokeFunction('convertToInteractive',\n",
              "                                                     [key], {});\n",
              "          if (!dataTable) return;\n",
              "\n",
              "          const docLinkHtml = 'Like what you see? Visit the ' +\n",
              "            '<a target=\"_blank\" href=https://colab.research.google.com/notebooks/data_table.ipynb>data table notebook</a>'\n",
              "            + ' to learn more about interactive tables.';\n",
              "          element.innerHTML = '';\n",
              "          dataTable['output_type'] = 'display_data';\n",
              "          await google.colab.output.renderOutput(dataTable, element);\n",
              "          const docLink = document.createElement('div');\n",
              "          docLink.innerHTML = docLinkHtml;\n",
              "          element.appendChild(docLink);\n",
              "        }\n",
              "      </script>\n",
              "    </div>\n",
              "  </div>\n",
              "  "
            ]
          },
          "metadata": {},
          "execution_count": 33
        }
      ]
    },
    {
      "cell_type": "code",
      "source": [
        "full_data.tail()"
      ],
      "metadata": {
        "colab": {
          "base_uri": "https://localhost:8080/",
          "height": 206
        },
        "id": "flXETg75lOOI",
        "outputId": "64648c14-bbd4-47de-8e43-63391ddef458"
      },
      "execution_count": null,
      "outputs": [
        {
          "output_type": "execute_result",
          "data": {
            "text/plain": [
              "                                                     Words  Freq\n",
              "5599997  [importance, including, compatible, incompatib...     1\n",
              "5599998  [including, compatible, incompatible, interact...     1\n",
              "5599999  [compatible, incompatible, interaction, invest...     1\n",
              "5600000  [incompatible, interaction, investigating, bio...     1\n",
              "5600001  [interaction, investigating, biology, complex,...     1"
            ],
            "text/html": [
              "\n",
              "  <div id=\"df-b19d5ebd-c678-4a1e-b75e-c6a711c1d870\">\n",
              "    <div class=\"colab-df-container\">\n",
              "      <div>\n",
              "<style scoped>\n",
              "    .dataframe tbody tr th:only-of-type {\n",
              "        vertical-align: middle;\n",
              "    }\n",
              "\n",
              "    .dataframe tbody tr th {\n",
              "        vertical-align: top;\n",
              "    }\n",
              "\n",
              "    .dataframe thead th {\n",
              "        text-align: right;\n",
              "    }\n",
              "</style>\n",
              "<table border=\"1\" class=\"dataframe\">\n",
              "  <thead>\n",
              "    <tr style=\"text-align: right;\">\n",
              "      <th></th>\n",
              "      <th>Words</th>\n",
              "      <th>Freq</th>\n",
              "    </tr>\n",
              "  </thead>\n",
              "  <tbody>\n",
              "    <tr>\n",
              "      <th>5599997</th>\n",
              "      <td>[importance, including, compatible, incompatib...</td>\n",
              "      <td>1</td>\n",
              "    </tr>\n",
              "    <tr>\n",
              "      <th>5599998</th>\n",
              "      <td>[including, compatible, incompatible, interact...</td>\n",
              "      <td>1</td>\n",
              "    </tr>\n",
              "    <tr>\n",
              "      <th>5599999</th>\n",
              "      <td>[compatible, incompatible, interaction, invest...</td>\n",
              "      <td>1</td>\n",
              "    </tr>\n",
              "    <tr>\n",
              "      <th>5600000</th>\n",
              "      <td>[incompatible, interaction, investigating, bio...</td>\n",
              "      <td>1</td>\n",
              "    </tr>\n",
              "    <tr>\n",
              "      <th>5600001</th>\n",
              "      <td>[interaction, investigating, biology, complex,...</td>\n",
              "      <td>1</td>\n",
              "    </tr>\n",
              "  </tbody>\n",
              "</table>\n",
              "</div>\n",
              "      <button class=\"colab-df-convert\" onclick=\"convertToInteractive('df-b19d5ebd-c678-4a1e-b75e-c6a711c1d870')\"\n",
              "              title=\"Convert this dataframe to an interactive table.\"\n",
              "              style=\"display:none;\">\n",
              "        \n",
              "  <svg xmlns=\"http://www.w3.org/2000/svg\" height=\"24px\"viewBox=\"0 0 24 24\"\n",
              "       width=\"24px\">\n",
              "    <path d=\"M0 0h24v24H0V0z\" fill=\"none\"/>\n",
              "    <path d=\"M18.56 5.44l.94 2.06.94-2.06 2.06-.94-2.06-.94-.94-2.06-.94 2.06-2.06.94zm-11 1L8.5 8.5l.94-2.06 2.06-.94-2.06-.94L8.5 2.5l-.94 2.06-2.06.94zm10 10l.94 2.06.94-2.06 2.06-.94-2.06-.94-.94-2.06-.94 2.06-2.06.94z\"/><path d=\"M17.41 7.96l-1.37-1.37c-.4-.4-.92-.59-1.43-.59-.52 0-1.04.2-1.43.59L10.3 9.45l-7.72 7.72c-.78.78-.78 2.05 0 2.83L4 21.41c.39.39.9.59 1.41.59.51 0 1.02-.2 1.41-.59l7.78-7.78 2.81-2.81c.8-.78.8-2.07 0-2.86zM5.41 20L4 18.59l7.72-7.72 1.47 1.35L5.41 20z\"/>\n",
              "  </svg>\n",
              "      </button>\n",
              "      \n",
              "  <style>\n",
              "    .colab-df-container {\n",
              "      display:flex;\n",
              "      flex-wrap:wrap;\n",
              "      gap: 12px;\n",
              "    }\n",
              "\n",
              "    .colab-df-convert {\n",
              "      background-color: #E8F0FE;\n",
              "      border: none;\n",
              "      border-radius: 50%;\n",
              "      cursor: pointer;\n",
              "      display: none;\n",
              "      fill: #1967D2;\n",
              "      height: 32px;\n",
              "      padding: 0 0 0 0;\n",
              "      width: 32px;\n",
              "    }\n",
              "\n",
              "    .colab-df-convert:hover {\n",
              "      background-color: #E2EBFA;\n",
              "      box-shadow: 0px 1px 2px rgba(60, 64, 67, 0.3), 0px 1px 3px 1px rgba(60, 64, 67, 0.15);\n",
              "      fill: #174EA6;\n",
              "    }\n",
              "\n",
              "    [theme=dark] .colab-df-convert {\n",
              "      background-color: #3B4455;\n",
              "      fill: #D2E3FC;\n",
              "    }\n",
              "\n",
              "    [theme=dark] .colab-df-convert:hover {\n",
              "      background-color: #434B5C;\n",
              "      box-shadow: 0px 1px 3px 1px rgba(0, 0, 0, 0.15);\n",
              "      filter: drop-shadow(0px 1px 2px rgba(0, 0, 0, 0.3));\n",
              "      fill: #FFFFFF;\n",
              "    }\n",
              "  </style>\n",
              "\n",
              "      <script>\n",
              "        const buttonEl =\n",
              "          document.querySelector('#df-b19d5ebd-c678-4a1e-b75e-c6a711c1d870 button.colab-df-convert');\n",
              "        buttonEl.style.display =\n",
              "          google.colab.kernel.accessAllowed ? 'block' : 'none';\n",
              "\n",
              "        async function convertToInteractive(key) {\n",
              "          const element = document.querySelector('#df-b19d5ebd-c678-4a1e-b75e-c6a711c1d870');\n",
              "          const dataTable =\n",
              "            await google.colab.kernel.invokeFunction('convertToInteractive',\n",
              "                                                     [key], {});\n",
              "          if (!dataTable) return;\n",
              "\n",
              "          const docLinkHtml = 'Like what you see? Visit the ' +\n",
              "            '<a target=\"_blank\" href=https://colab.research.google.com/notebooks/data_table.ipynb>data table notebook</a>'\n",
              "            + ' to learn more about interactive tables.';\n",
              "          element.innerHTML = '';\n",
              "          dataTable['output_type'] = 'display_data';\n",
              "          await google.colab.output.renderOutput(dataTable, element);\n",
              "          const docLink = document.createElement('div');\n",
              "          docLink.innerHTML = docLinkHtml;\n",
              "          element.appendChild(docLink);\n",
              "        }\n",
              "      </script>\n",
              "    </div>\n",
              "  </div>\n",
              "  "
            ]
          },
          "metadata": {},
          "execution_count": 34
        }
      ]
    },
    {
      "cell_type": "code",
      "source": [
        "full_data.Freq = full_data['Freq'].convert_dtypes()"
      ],
      "metadata": {
        "id": "B3s3Wtzc3xHt"
      },
      "execution_count": null,
      "outputs": []
    },
    {
      "cell_type": "code",
      "source": [
        "full_data.dtypes"
      ],
      "metadata": {
        "colab": {
          "base_uri": "https://localhost:8080/"
        },
        "id": "Br3a3jHy3yqA",
        "outputId": "d2459d9f-36d7-402d-e00a-8bb6f37d2cf4"
      },
      "execution_count": null,
      "outputs": [
        {
          "output_type": "execute_result",
          "data": {
            "text/plain": [
              "Words    object\n",
              "Freq      Int64\n",
              "dtype: object"
            ]
          },
          "metadata": {},
          "execution_count": 36
        }
      ]
    },
    {
      "cell_type": "code",
      "source": [
        "full_data.Freq = pd.to_numeric(full_data.Freq)"
      ],
      "metadata": {
        "id": "Qr2mZ-sK3zzP"
      },
      "execution_count": null,
      "outputs": []
    },
    {
      "cell_type": "code",
      "source": [
        "full_data.dtypes"
      ],
      "metadata": {
        "colab": {
          "base_uri": "https://localhost:8080/"
        },
        "id": "kSLcQN_w33ov",
        "outputId": "be58a302-01d6-4898-ce46-66db6e835ea7"
      },
      "execution_count": null,
      "outputs": [
        {
          "output_type": "execute_result",
          "data": {
            "text/plain": [
              "Words    object\n",
              "Freq      Int64\n",
              "dtype: object"
            ]
          },
          "metadata": {},
          "execution_count": 38
        }
      ]
    },
    {
      "cell_type": "code",
      "source": [
        "full_data.shape"
      ],
      "metadata": {
        "colab": {
          "base_uri": "https://localhost:8080/"
        },
        "id": "s8ao7EMS304k",
        "outputId": "8b2d879b-8165-47b9-e11c-6996b159c132"
      },
      "execution_count": null,
      "outputs": [
        {
          "output_type": "execute_result",
          "data": {
            "text/plain": [
              "(5600002, 2)"
            ]
          },
          "metadata": {},
          "execution_count": 39
        }
      ]
    },
    {
      "cell_type": "code",
      "source": [
        "num = 25\n",
        "full_data = full_data[full_data['Freq'] >= num]"
      ],
      "metadata": {
        "id": "Obt82lee36D2"
      },
      "execution_count": null,
      "outputs": []
    },
    {
      "cell_type": "code",
      "source": [
        "full_data.shape"
      ],
      "metadata": {
        "colab": {
          "base_uri": "https://localhost:8080/"
        },
        "id": "0HNImLRU39A-",
        "outputId": "90cd7f11-477c-4e3e-e8bd-5a19c9772983"
      },
      "execution_count": null,
      "outputs": [
        {
          "output_type": "execute_result",
          "data": {
            "text/plain": [
              "(132, 2)"
            ]
          },
          "metadata": {},
          "execution_count": 41
        }
      ]
    },
    {
      "cell_type": "code",
      "source": [
        "full_data"
      ],
      "metadata": {
        "colab": {
          "base_uri": "https://localhost:8080/",
          "height": 424
        },
        "id": "5iqryx3r3kCb",
        "outputId": "2c567e81-9dff-4b24-909a-8fadd7e7214b"
      },
      "execution_count": null,
      "outputs": [
        {
          "output_type": "execute_result",
          "data": {
            "text/plain": [
              "                                                     Words  Freq\n",
              "808            [discussed, elsevier, inc, right, reserved]    25\n",
              "809                [elsevier, inc, right, reserved, paper]    54\n",
              "2002          [nonalcoholic, fatty, liver, disease, nafld]    26\n",
              "2817                    [copyright, john, wiley, son, ltd]   500\n",
              "4580     [realtime, quantitative, polymerase, chain, re...    31\n",
              "...                                                    ...   ...\n",
              "2966097          [health, inc, right, reserved, objective]    28\n",
              "2972180     [elsevier, masson, right, reserved, objective]    28\n",
              "2986598        [elsevier, inc, right, reserved, objective]   108\n",
              "2994793        [elsevier, ltd, right, reserved, objective]   109\n",
              "3006237         [ireland, ltd, right, reserved, objective]    53\n",
              "\n",
              "[132 rows x 2 columns]"
            ],
            "text/html": [
              "\n",
              "  <div id=\"df-5e2479e4-3acb-4fa7-a00f-79f828d8bf94\">\n",
              "    <div class=\"colab-df-container\">\n",
              "      <div>\n",
              "<style scoped>\n",
              "    .dataframe tbody tr th:only-of-type {\n",
              "        vertical-align: middle;\n",
              "    }\n",
              "\n",
              "    .dataframe tbody tr th {\n",
              "        vertical-align: top;\n",
              "    }\n",
              "\n",
              "    .dataframe thead th {\n",
              "        text-align: right;\n",
              "    }\n",
              "</style>\n",
              "<table border=\"1\" class=\"dataframe\">\n",
              "  <thead>\n",
              "    <tr style=\"text-align: right;\">\n",
              "      <th></th>\n",
              "      <th>Words</th>\n",
              "      <th>Freq</th>\n",
              "    </tr>\n",
              "  </thead>\n",
              "  <tbody>\n",
              "    <tr>\n",
              "      <th>808</th>\n",
              "      <td>[discussed, elsevier, inc, right, reserved]</td>\n",
              "      <td>25</td>\n",
              "    </tr>\n",
              "    <tr>\n",
              "      <th>809</th>\n",
              "      <td>[elsevier, inc, right, reserved, paper]</td>\n",
              "      <td>54</td>\n",
              "    </tr>\n",
              "    <tr>\n",
              "      <th>2002</th>\n",
              "      <td>[nonalcoholic, fatty, liver, disease, nafld]</td>\n",
              "      <td>26</td>\n",
              "    </tr>\n",
              "    <tr>\n",
              "      <th>2817</th>\n",
              "      <td>[copyright, john, wiley, son, ltd]</td>\n",
              "      <td>500</td>\n",
              "    </tr>\n",
              "    <tr>\n",
              "      <th>4580</th>\n",
              "      <td>[realtime, quantitative, polymerase, chain, re...</td>\n",
              "      <td>31</td>\n",
              "    </tr>\n",
              "    <tr>\n",
              "      <th>...</th>\n",
              "      <td>...</td>\n",
              "      <td>...</td>\n",
              "    </tr>\n",
              "    <tr>\n",
              "      <th>2966097</th>\n",
              "      <td>[health, inc, right, reserved, objective]</td>\n",
              "      <td>28</td>\n",
              "    </tr>\n",
              "    <tr>\n",
              "      <th>2972180</th>\n",
              "      <td>[elsevier, masson, right, reserved, objective]</td>\n",
              "      <td>28</td>\n",
              "    </tr>\n",
              "    <tr>\n",
              "      <th>2986598</th>\n",
              "      <td>[elsevier, inc, right, reserved, objective]</td>\n",
              "      <td>108</td>\n",
              "    </tr>\n",
              "    <tr>\n",
              "      <th>2994793</th>\n",
              "      <td>[elsevier, ltd, right, reserved, objective]</td>\n",
              "      <td>109</td>\n",
              "    </tr>\n",
              "    <tr>\n",
              "      <th>3006237</th>\n",
              "      <td>[ireland, ltd, right, reserved, objective]</td>\n",
              "      <td>53</td>\n",
              "    </tr>\n",
              "  </tbody>\n",
              "</table>\n",
              "<p>132 rows × 2 columns</p>\n",
              "</div>\n",
              "      <button class=\"colab-df-convert\" onclick=\"convertToInteractive('df-5e2479e4-3acb-4fa7-a00f-79f828d8bf94')\"\n",
              "              title=\"Convert this dataframe to an interactive table.\"\n",
              "              style=\"display:none;\">\n",
              "        \n",
              "  <svg xmlns=\"http://www.w3.org/2000/svg\" height=\"24px\"viewBox=\"0 0 24 24\"\n",
              "       width=\"24px\">\n",
              "    <path d=\"M0 0h24v24H0V0z\" fill=\"none\"/>\n",
              "    <path d=\"M18.56 5.44l.94 2.06.94-2.06 2.06-.94-2.06-.94-.94-2.06-.94 2.06-2.06.94zm-11 1L8.5 8.5l.94-2.06 2.06-.94-2.06-.94L8.5 2.5l-.94 2.06-2.06.94zm10 10l.94 2.06.94-2.06 2.06-.94-2.06-.94-.94-2.06-.94 2.06-2.06.94z\"/><path d=\"M17.41 7.96l-1.37-1.37c-.4-.4-.92-.59-1.43-.59-.52 0-1.04.2-1.43.59L10.3 9.45l-7.72 7.72c-.78.78-.78 2.05 0 2.83L4 21.41c.39.39.9.59 1.41.59.51 0 1.02-.2 1.41-.59l7.78-7.78 2.81-2.81c.8-.78.8-2.07 0-2.86zM5.41 20L4 18.59l7.72-7.72 1.47 1.35L5.41 20z\"/>\n",
              "  </svg>\n",
              "      </button>\n",
              "      \n",
              "  <style>\n",
              "    .colab-df-container {\n",
              "      display:flex;\n",
              "      flex-wrap:wrap;\n",
              "      gap: 12px;\n",
              "    }\n",
              "\n",
              "    .colab-df-convert {\n",
              "      background-color: #E8F0FE;\n",
              "      border: none;\n",
              "      border-radius: 50%;\n",
              "      cursor: pointer;\n",
              "      display: none;\n",
              "      fill: #1967D2;\n",
              "      height: 32px;\n",
              "      padding: 0 0 0 0;\n",
              "      width: 32px;\n",
              "    }\n",
              "\n",
              "    .colab-df-convert:hover {\n",
              "      background-color: #E2EBFA;\n",
              "      box-shadow: 0px 1px 2px rgba(60, 64, 67, 0.3), 0px 1px 3px 1px rgba(60, 64, 67, 0.15);\n",
              "      fill: #174EA6;\n",
              "    }\n",
              "\n",
              "    [theme=dark] .colab-df-convert {\n",
              "      background-color: #3B4455;\n",
              "      fill: #D2E3FC;\n",
              "    }\n",
              "\n",
              "    [theme=dark] .colab-df-convert:hover {\n",
              "      background-color: #434B5C;\n",
              "      box-shadow: 0px 1px 3px 1px rgba(0, 0, 0, 0.15);\n",
              "      filter: drop-shadow(0px 1px 2px rgba(0, 0, 0, 0.3));\n",
              "      fill: #FFFFFF;\n",
              "    }\n",
              "  </style>\n",
              "\n",
              "      <script>\n",
              "        const buttonEl =\n",
              "          document.querySelector('#df-5e2479e4-3acb-4fa7-a00f-79f828d8bf94 button.colab-df-convert');\n",
              "        buttonEl.style.display =\n",
              "          google.colab.kernel.accessAllowed ? 'block' : 'none';\n",
              "\n",
              "        async function convertToInteractive(key) {\n",
              "          const element = document.querySelector('#df-5e2479e4-3acb-4fa7-a00f-79f828d8bf94');\n",
              "          const dataTable =\n",
              "            await google.colab.kernel.invokeFunction('convertToInteractive',\n",
              "                                                     [key], {});\n",
              "          if (!dataTable) return;\n",
              "\n",
              "          const docLinkHtml = 'Like what you see? Visit the ' +\n",
              "            '<a target=\"_blank\" href=https://colab.research.google.com/notebooks/data_table.ipynb>data table notebook</a>'\n",
              "            + ' to learn more about interactive tables.';\n",
              "          element.innerHTML = '';\n",
              "          dataTable['output_type'] = 'display_data';\n",
              "          await google.colab.output.renderOutput(dataTable, element);\n",
              "          const docLink = document.createElement('div');\n",
              "          docLink.innerHTML = docLinkHtml;\n",
              "          element.appendChild(docLink);\n",
              "        }\n",
              "      </script>\n",
              "    </div>\n",
              "  </div>\n",
              "  "
            ]
          },
          "metadata": {},
          "execution_count": 42
        }
      ]
    },
    {
      "cell_type": "code",
      "source": [
        "full_data = full_data.sort_values(by=['Freq'], ascending=False)"
      ],
      "metadata": {
        "id": "7-3EfNni3X8b"
      },
      "execution_count": null,
      "outputs": []
    },
    {
      "cell_type": "code",
      "source": [
        "full_data"
      ],
      "metadata": {
        "colab": {
          "base_uri": "https://localhost:8080/",
          "height": 424
        },
        "id": "0TU73Aaa3eVi",
        "outputId": "acb2ca6e-b771-4142-8c62-f90c4ac9ca9c"
      },
      "execution_count": null,
      "outputs": [
        {
          "output_type": "execute_result",
          "data": {
            "text/plain": [
              "                                                     Words  Freq\n",
              "2817                    [copyright, john, wiley, son, ltd]   500\n",
              "27235          [published, elsevier, ltd, right, reserved]   346\n",
              "2271278            [elsevier, ltd, right, reserved, paper]   338\n",
              "70866            [elsevier, ireland, ltd, right, reserved]   263\n",
              "533820        [elsevier, ltd, right, reserved, background]   159\n",
              "...                                                    ...   ...\n",
              "53057    [fourier, transform, infrared, spectroscopy, f...    25\n",
              "39220    [proportional, integral, derivative, pid, cont...    25\n",
              "28914             [field, programmable, gate, array, fpga]    25\n",
              "10323       [experimental, result, show, proposed, method]    25\n",
              "808            [discussed, elsevier, inc, right, reserved]    25\n",
              "\n",
              "[132 rows x 2 columns]"
            ],
            "text/html": [
              "\n",
              "  <div id=\"df-64e085c4-386b-423f-9f0a-0656220ee587\">\n",
              "    <div class=\"colab-df-container\">\n",
              "      <div>\n",
              "<style scoped>\n",
              "    .dataframe tbody tr th:only-of-type {\n",
              "        vertical-align: middle;\n",
              "    }\n",
              "\n",
              "    .dataframe tbody tr th {\n",
              "        vertical-align: top;\n",
              "    }\n",
              "\n",
              "    .dataframe thead th {\n",
              "        text-align: right;\n",
              "    }\n",
              "</style>\n",
              "<table border=\"1\" class=\"dataframe\">\n",
              "  <thead>\n",
              "    <tr style=\"text-align: right;\">\n",
              "      <th></th>\n",
              "      <th>Words</th>\n",
              "      <th>Freq</th>\n",
              "    </tr>\n",
              "  </thead>\n",
              "  <tbody>\n",
              "    <tr>\n",
              "      <th>2817</th>\n",
              "      <td>[copyright, john, wiley, son, ltd]</td>\n",
              "      <td>500</td>\n",
              "    </tr>\n",
              "    <tr>\n",
              "      <th>27235</th>\n",
              "      <td>[published, elsevier, ltd, right, reserved]</td>\n",
              "      <td>346</td>\n",
              "    </tr>\n",
              "    <tr>\n",
              "      <th>2271278</th>\n",
              "      <td>[elsevier, ltd, right, reserved, paper]</td>\n",
              "      <td>338</td>\n",
              "    </tr>\n",
              "    <tr>\n",
              "      <th>70866</th>\n",
              "      <td>[elsevier, ireland, ltd, right, reserved]</td>\n",
              "      <td>263</td>\n",
              "    </tr>\n",
              "    <tr>\n",
              "      <th>533820</th>\n",
              "      <td>[elsevier, ltd, right, reserved, background]</td>\n",
              "      <td>159</td>\n",
              "    </tr>\n",
              "    <tr>\n",
              "      <th>...</th>\n",
              "      <td>...</td>\n",
              "      <td>...</td>\n",
              "    </tr>\n",
              "    <tr>\n",
              "      <th>53057</th>\n",
              "      <td>[fourier, transform, infrared, spectroscopy, f...</td>\n",
              "      <td>25</td>\n",
              "    </tr>\n",
              "    <tr>\n",
              "      <th>39220</th>\n",
              "      <td>[proportional, integral, derivative, pid, cont...</td>\n",
              "      <td>25</td>\n",
              "    </tr>\n",
              "    <tr>\n",
              "      <th>28914</th>\n",
              "      <td>[field, programmable, gate, array, fpga]</td>\n",
              "      <td>25</td>\n",
              "    </tr>\n",
              "    <tr>\n",
              "      <th>10323</th>\n",
              "      <td>[experimental, result, show, proposed, method]</td>\n",
              "      <td>25</td>\n",
              "    </tr>\n",
              "    <tr>\n",
              "      <th>808</th>\n",
              "      <td>[discussed, elsevier, inc, right, reserved]</td>\n",
              "      <td>25</td>\n",
              "    </tr>\n",
              "  </tbody>\n",
              "</table>\n",
              "<p>132 rows × 2 columns</p>\n",
              "</div>\n",
              "      <button class=\"colab-df-convert\" onclick=\"convertToInteractive('df-64e085c4-386b-423f-9f0a-0656220ee587')\"\n",
              "              title=\"Convert this dataframe to an interactive table.\"\n",
              "              style=\"display:none;\">\n",
              "        \n",
              "  <svg xmlns=\"http://www.w3.org/2000/svg\" height=\"24px\"viewBox=\"0 0 24 24\"\n",
              "       width=\"24px\">\n",
              "    <path d=\"M0 0h24v24H0V0z\" fill=\"none\"/>\n",
              "    <path d=\"M18.56 5.44l.94 2.06.94-2.06 2.06-.94-2.06-.94-.94-2.06-.94 2.06-2.06.94zm-11 1L8.5 8.5l.94-2.06 2.06-.94-2.06-.94L8.5 2.5l-.94 2.06-2.06.94zm10 10l.94 2.06.94-2.06 2.06-.94-2.06-.94-.94-2.06-.94 2.06-2.06.94z\"/><path d=\"M17.41 7.96l-1.37-1.37c-.4-.4-.92-.59-1.43-.59-.52 0-1.04.2-1.43.59L10.3 9.45l-7.72 7.72c-.78.78-.78 2.05 0 2.83L4 21.41c.39.39.9.59 1.41.59.51 0 1.02-.2 1.41-.59l7.78-7.78 2.81-2.81c.8-.78.8-2.07 0-2.86zM5.41 20L4 18.59l7.72-7.72 1.47 1.35L5.41 20z\"/>\n",
              "  </svg>\n",
              "      </button>\n",
              "      \n",
              "  <style>\n",
              "    .colab-df-container {\n",
              "      display:flex;\n",
              "      flex-wrap:wrap;\n",
              "      gap: 12px;\n",
              "    }\n",
              "\n",
              "    .colab-df-convert {\n",
              "      background-color: #E8F0FE;\n",
              "      border: none;\n",
              "      border-radius: 50%;\n",
              "      cursor: pointer;\n",
              "      display: none;\n",
              "      fill: #1967D2;\n",
              "      height: 32px;\n",
              "      padding: 0 0 0 0;\n",
              "      width: 32px;\n",
              "    }\n",
              "\n",
              "    .colab-df-convert:hover {\n",
              "      background-color: #E2EBFA;\n",
              "      box-shadow: 0px 1px 2px rgba(60, 64, 67, 0.3), 0px 1px 3px 1px rgba(60, 64, 67, 0.15);\n",
              "      fill: #174EA6;\n",
              "    }\n",
              "\n",
              "    [theme=dark] .colab-df-convert {\n",
              "      background-color: #3B4455;\n",
              "      fill: #D2E3FC;\n",
              "    }\n",
              "\n",
              "    [theme=dark] .colab-df-convert:hover {\n",
              "      background-color: #434B5C;\n",
              "      box-shadow: 0px 1px 3px 1px rgba(0, 0, 0, 0.15);\n",
              "      filter: drop-shadow(0px 1px 2px rgba(0, 0, 0, 0.3));\n",
              "      fill: #FFFFFF;\n",
              "    }\n",
              "  </style>\n",
              "\n",
              "      <script>\n",
              "        const buttonEl =\n",
              "          document.querySelector('#df-64e085c4-386b-423f-9f0a-0656220ee587 button.colab-df-convert');\n",
              "        buttonEl.style.display =\n",
              "          google.colab.kernel.accessAllowed ? 'block' : 'none';\n",
              "\n",
              "        async function convertToInteractive(key) {\n",
              "          const element = document.querySelector('#df-64e085c4-386b-423f-9f0a-0656220ee587');\n",
              "          const dataTable =\n",
              "            await google.colab.kernel.invokeFunction('convertToInteractive',\n",
              "                                                     [key], {});\n",
              "          if (!dataTable) return;\n",
              "\n",
              "          const docLinkHtml = 'Like what you see? Visit the ' +\n",
              "            '<a target=\"_blank\" href=https://colab.research.google.com/notebooks/data_table.ipynb>data table notebook</a>'\n",
              "            + ' to learn more about interactive tables.';\n",
              "          element.innerHTML = '';\n",
              "          dataTable['output_type'] = 'display_data';\n",
              "          await google.colab.output.renderOutput(dataTable, element);\n",
              "          const docLink = document.createElement('div');\n",
              "          docLink.innerHTML = docLinkHtml;\n",
              "          element.appendChild(docLink);\n",
              "        }\n",
              "      </script>\n",
              "    </div>\n",
              "  </div>\n",
              "  "
            ]
          },
          "metadata": {},
          "execution_count": 44
        }
      ]
    },
    {
      "cell_type": "code",
      "source": [
        "full_data = full_data.reset_index(drop=True)"
      ],
      "metadata": {
        "id": "q83JJRJb4Gy-"
      },
      "execution_count": null,
      "outputs": []
    },
    {
      "cell_type": "code",
      "source": [
        "full_data"
      ],
      "metadata": {
        "colab": {
          "base_uri": "https://localhost:8080/",
          "height": 424
        },
        "id": "2n0lWix54Njr",
        "outputId": "60df3bea-f157-43a5-c695-5411c31bba5f"
      },
      "execution_count": null,
      "outputs": [
        {
          "output_type": "execute_result",
          "data": {
            "text/plain": [
              "                                                 Words  Freq\n",
              "0                   [copyright, john, wiley, son, ltd]   500\n",
              "1          [published, elsevier, ltd, right, reserved]   346\n",
              "2              [elsevier, ltd, right, reserved, paper]   338\n",
              "3            [elsevier, ireland, ltd, right, reserved]   263\n",
              "4         [elsevier, ltd, right, reserved, background]   159\n",
              "..                                                 ...   ...\n",
              "127  [fourier, transform, infrared, spectroscopy, f...    25\n",
              "128  [proportional, integral, derivative, pid, cont...    25\n",
              "129           [field, programmable, gate, array, fpga]    25\n",
              "130     [experimental, result, show, proposed, method]    25\n",
              "131        [discussed, elsevier, inc, right, reserved]    25\n",
              "\n",
              "[132 rows x 2 columns]"
            ],
            "text/html": [
              "\n",
              "  <div id=\"df-4847bd80-bc71-4083-b74d-5876aa2809a2\">\n",
              "    <div class=\"colab-df-container\">\n",
              "      <div>\n",
              "<style scoped>\n",
              "    .dataframe tbody tr th:only-of-type {\n",
              "        vertical-align: middle;\n",
              "    }\n",
              "\n",
              "    .dataframe tbody tr th {\n",
              "        vertical-align: top;\n",
              "    }\n",
              "\n",
              "    .dataframe thead th {\n",
              "        text-align: right;\n",
              "    }\n",
              "</style>\n",
              "<table border=\"1\" class=\"dataframe\">\n",
              "  <thead>\n",
              "    <tr style=\"text-align: right;\">\n",
              "      <th></th>\n",
              "      <th>Words</th>\n",
              "      <th>Freq</th>\n",
              "    </tr>\n",
              "  </thead>\n",
              "  <tbody>\n",
              "    <tr>\n",
              "      <th>0</th>\n",
              "      <td>[copyright, john, wiley, son, ltd]</td>\n",
              "      <td>500</td>\n",
              "    </tr>\n",
              "    <tr>\n",
              "      <th>1</th>\n",
              "      <td>[published, elsevier, ltd, right, reserved]</td>\n",
              "      <td>346</td>\n",
              "    </tr>\n",
              "    <tr>\n",
              "      <th>2</th>\n",
              "      <td>[elsevier, ltd, right, reserved, paper]</td>\n",
              "      <td>338</td>\n",
              "    </tr>\n",
              "    <tr>\n",
              "      <th>3</th>\n",
              "      <td>[elsevier, ireland, ltd, right, reserved]</td>\n",
              "      <td>263</td>\n",
              "    </tr>\n",
              "    <tr>\n",
              "      <th>4</th>\n",
              "      <td>[elsevier, ltd, right, reserved, background]</td>\n",
              "      <td>159</td>\n",
              "    </tr>\n",
              "    <tr>\n",
              "      <th>...</th>\n",
              "      <td>...</td>\n",
              "      <td>...</td>\n",
              "    </tr>\n",
              "    <tr>\n",
              "      <th>127</th>\n",
              "      <td>[fourier, transform, infrared, spectroscopy, f...</td>\n",
              "      <td>25</td>\n",
              "    </tr>\n",
              "    <tr>\n",
              "      <th>128</th>\n",
              "      <td>[proportional, integral, derivative, pid, cont...</td>\n",
              "      <td>25</td>\n",
              "    </tr>\n",
              "    <tr>\n",
              "      <th>129</th>\n",
              "      <td>[field, programmable, gate, array, fpga]</td>\n",
              "      <td>25</td>\n",
              "    </tr>\n",
              "    <tr>\n",
              "      <th>130</th>\n",
              "      <td>[experimental, result, show, proposed, method]</td>\n",
              "      <td>25</td>\n",
              "    </tr>\n",
              "    <tr>\n",
              "      <th>131</th>\n",
              "      <td>[discussed, elsevier, inc, right, reserved]</td>\n",
              "      <td>25</td>\n",
              "    </tr>\n",
              "  </tbody>\n",
              "</table>\n",
              "<p>132 rows × 2 columns</p>\n",
              "</div>\n",
              "      <button class=\"colab-df-convert\" onclick=\"convertToInteractive('df-4847bd80-bc71-4083-b74d-5876aa2809a2')\"\n",
              "              title=\"Convert this dataframe to an interactive table.\"\n",
              "              style=\"display:none;\">\n",
              "        \n",
              "  <svg xmlns=\"http://www.w3.org/2000/svg\" height=\"24px\"viewBox=\"0 0 24 24\"\n",
              "       width=\"24px\">\n",
              "    <path d=\"M0 0h24v24H0V0z\" fill=\"none\"/>\n",
              "    <path d=\"M18.56 5.44l.94 2.06.94-2.06 2.06-.94-2.06-.94-.94-2.06-.94 2.06-2.06.94zm-11 1L8.5 8.5l.94-2.06 2.06-.94-2.06-.94L8.5 2.5l-.94 2.06-2.06.94zm10 10l.94 2.06.94-2.06 2.06-.94-2.06-.94-.94-2.06-.94 2.06-2.06.94z\"/><path d=\"M17.41 7.96l-1.37-1.37c-.4-.4-.92-.59-1.43-.59-.52 0-1.04.2-1.43.59L10.3 9.45l-7.72 7.72c-.78.78-.78 2.05 0 2.83L4 21.41c.39.39.9.59 1.41.59.51 0 1.02-.2 1.41-.59l7.78-7.78 2.81-2.81c.8-.78.8-2.07 0-2.86zM5.41 20L4 18.59l7.72-7.72 1.47 1.35L5.41 20z\"/>\n",
              "  </svg>\n",
              "      </button>\n",
              "      \n",
              "  <style>\n",
              "    .colab-df-container {\n",
              "      display:flex;\n",
              "      flex-wrap:wrap;\n",
              "      gap: 12px;\n",
              "    }\n",
              "\n",
              "    .colab-df-convert {\n",
              "      background-color: #E8F0FE;\n",
              "      border: none;\n",
              "      border-radius: 50%;\n",
              "      cursor: pointer;\n",
              "      display: none;\n",
              "      fill: #1967D2;\n",
              "      height: 32px;\n",
              "      padding: 0 0 0 0;\n",
              "      width: 32px;\n",
              "    }\n",
              "\n",
              "    .colab-df-convert:hover {\n",
              "      background-color: #E2EBFA;\n",
              "      box-shadow: 0px 1px 2px rgba(60, 64, 67, 0.3), 0px 1px 3px 1px rgba(60, 64, 67, 0.15);\n",
              "      fill: #174EA6;\n",
              "    }\n",
              "\n",
              "    [theme=dark] .colab-df-convert {\n",
              "      background-color: #3B4455;\n",
              "      fill: #D2E3FC;\n",
              "    }\n",
              "\n",
              "    [theme=dark] .colab-df-convert:hover {\n",
              "      background-color: #434B5C;\n",
              "      box-shadow: 0px 1px 3px 1px rgba(0, 0, 0, 0.15);\n",
              "      filter: drop-shadow(0px 1px 2px rgba(0, 0, 0, 0.3));\n",
              "      fill: #FFFFFF;\n",
              "    }\n",
              "  </style>\n",
              "\n",
              "      <script>\n",
              "        const buttonEl =\n",
              "          document.querySelector('#df-4847bd80-bc71-4083-b74d-5876aa2809a2 button.colab-df-convert');\n",
              "        buttonEl.style.display =\n",
              "          google.colab.kernel.accessAllowed ? 'block' : 'none';\n",
              "\n",
              "        async function convertToInteractive(key) {\n",
              "          const element = document.querySelector('#df-4847bd80-bc71-4083-b74d-5876aa2809a2');\n",
              "          const dataTable =\n",
              "            await google.colab.kernel.invokeFunction('convertToInteractive',\n",
              "                                                     [key], {});\n",
              "          if (!dataTable) return;\n",
              "\n",
              "          const docLinkHtml = 'Like what you see? Visit the ' +\n",
              "            '<a target=\"_blank\" href=https://colab.research.google.com/notebooks/data_table.ipynb>data table notebook</a>'\n",
              "            + ' to learn more about interactive tables.';\n",
              "          element.innerHTML = '';\n",
              "          dataTable['output_type'] = 'display_data';\n",
              "          await google.colab.output.renderOutput(dataTable, element);\n",
              "          const docLink = document.createElement('div');\n",
              "          docLink.innerHTML = docLinkHtml;\n",
              "          element.appendChild(docLink);\n",
              "        }\n",
              "      </script>\n",
              "    </div>\n",
              "  </div>\n",
              "  "
            ]
          },
          "metadata": {},
          "execution_count": 46
        }
      ]
    },
    {
      "cell_type": "code",
      "source": [
        "full_data.shape"
      ],
      "metadata": {
        "colab": {
          "base_uri": "https://localhost:8080/"
        },
        "id": "eBEv-lq7ANY7",
        "outputId": "1464fd1a-10a8-4d5c-9c66-54de33be7b57"
      },
      "execution_count": null,
      "outputs": [
        {
          "output_type": "execute_result",
          "data": {
            "text/plain": [
              "(132, 2)"
            ]
          },
          "metadata": {},
          "execution_count": 47
        }
      ]
    },
    {
      "cell_type": "code",
      "source": [
        "full_data.to_csv('/content/drive/MyDrive/WS/Çıktılar/' + name + 'grams.csv', encoding='utf-8')"
      ],
      "metadata": {
        "id": "xLdxxL34KKd5"
      },
      "execution_count": null,
      "outputs": []
    },
    {
      "cell_type": "code",
      "source": [
        "z = full_data.to_numpy()"
      ],
      "metadata": {
        "id": "JCpouVHAJQ0K"
      },
      "execution_count": null,
      "outputs": []
    },
    {
      "cell_type": "code",
      "source": [
        "z"
      ],
      "metadata": {
        "colab": {
          "base_uri": "https://localhost:8080/"
        },
        "id": "dJSL3bvhJxji",
        "outputId": "dc81008e-4e6d-4635-94a7-aeb76b508b9c"
      },
      "execution_count": null,
      "outputs": [
        {
          "output_type": "execute_result",
          "data": {
            "text/plain": [
              "array([[list(['copyright', 'john', 'wiley', 'son', 'ltd']), 500],\n",
              "       [list(['published', 'elsevier', 'ltd', 'right', 'reserved']), 346],\n",
              "       [list(['elsevier', 'ltd', 'right', 'reserved', 'paper']), 338],\n",
              "       [list(['elsevier', 'ireland', 'ltd', 'right', 'reserved']), 263],\n",
              "       [list(['elsevier', 'ltd', 'right', 'reserved', 'background']),\n",
              "        159],\n",
              "       [list(['ltd', 'right', 'reserved', 'paper', 'present']), 115],\n",
              "       [list(['kluwer', 'health', 'inc', 'right', 'reserved']), 112],\n",
              "       [list(['wolters', 'kluwer', 'health', 'inc', 'right']), 112],\n",
              "       [list(['elsevier', 'ltd', 'right', 'reserved', 'objective']), 109],\n",
              "       [list(['elsevier', 'ltd', 'right', 'reserved', 'study']), 109],\n",
              "       [list(['open', 'access', 'article', 'byncnd', 'license']), 109],\n",
              "       [list(['elsevier', 'inc', 'right', 'reserved', 'objective']), 108],\n",
              "       [list(['copyright', 'wolters', 'kluwer', 'health', 'inc']), 102],\n",
              "       [list(['published', 'elsevier', 'inc', 'right', 'reserved']), 91],\n",
              "       [list(['elsevier', 'inc', 'right', 'reserved', 'background']), 91],\n",
              "       [list(['international', 'union', 'biochemistry', 'molecular', 'biology']),\n",
              "        89],\n",
              "       [list(['quantitative', 'realtime', 'polymerase', 'chain', 'reaction']),\n",
              "        89],\n",
              "       [list(['reverse', 'transcription', 'polymerase', 'chain', 'reaction']),\n",
              "        85],\n",
              "       [list(['discussed', 'elsevier', 'ltd', 'right', 'reserved']), 81],\n",
              "       [list(['system', 'elsevier', 'ltd', 'right', 'reserved']), 79],\n",
              "       [list(['article', 'part', 'special', 'issue', 'entitled']), 70],\n",
              "       [list(['elsevier', 'ltd', 'right', 'reserved', 'present']), 62],\n",
              "       [list(['john', 'wiley', 'son', 'ltd', 'paper']), 61],\n",
              "       [list(['functional', 'magnetic', 'resonance', 'imaging', 'fmri']),\n",
              "        57],\n",
              "       [list(['american', 'academy', 'allergy', 'asthma', 'immunology']),\n",
              "        57],\n",
              "       [list(['elsevier', 'inc', 'right', 'reserved', 'paper']), 54],\n",
              "       [list(['elsevier', 'ltd', 'right', 'reserved', 'work']), 54],\n",
              "       [list(['ireland', 'ltd', 'right', 'reserved', 'objective']), 53],\n",
              "       [list(['elsevier', 'right', 'reserved', 'paper', 'present']), 53],\n",
              "       [list(['reverse', 'transcriptionquantitative', 'polymerase', 'chain', 'reaction']),\n",
              "        51],\n",
              "       [list(['union', 'biochemistry', 'molecular', 'biology', 'inc']),\n",
              "        50],\n",
              "       [list(['child', 'autism', 'spectrum', 'disorder', 'asd']), 50],\n",
              "       [list(['diagnostic', 'statistical', 'manual', 'mental', 'disorder']),\n",
              "        47],\n",
              "       [list(['chronic', 'obstructive', 'pulmonary', 'disease', 'copd']),\n",
              "        46],\n",
              "       [list(['elsevier', 'ltd', 'open', 'access', 'article']), 45],\n",
              "       [list(['ireland', 'ltd', 'right', 'reserved', 'background']), 42],\n",
              "       [list(['national', 'health', 'nutrition', 'examination', 'survey']),\n",
              "        39],\n",
              "       [list(['elsevier', 'inc', 'right', 'reserved', 'introduction']),\n",
              "        39],\n",
              "       [list(['elsevier', 'ltd', 'right', 'reserved', 'introduction']),\n",
              "        39],\n",
              "       [list(['published', 'elsevier', 'ltd', 'open', 'access']), 38],\n",
              "       [list(['elsevier', 'ltd', 'right', 'reserved', 'aim']), 38],\n",
              "       [list(['elsevier', 'open', 'access', 'article', 'byncnd']), 38],\n",
              "       [list(['ibro', 'published', 'elsevier', 'ltd', 'right']), 38],\n",
              "       [list(['hydrogen', 'energy', 'publication', 'llc', 'published']),\n",
              "        37],\n",
              "       [list(['energy', 'publication', 'llc', 'published', 'elsevier']),\n",
              "        37],\n",
              "       [list(['control', 'hosting', 'elsevier', 'ltd', 'right']), 37],\n",
              "       [list(['hosting', 'elsevier', 'ltd', 'right', 'reserved']), 37],\n",
              "       [list(['publication', 'llc', 'published', 'elsevier', 'ltd']), 37],\n",
              "       [list(['llc', 'published', 'elsevier', 'ltd', 'right']), 37],\n",
              "       [list(['adjusted', 'odds', 'ratio', 'confidence', 'interval']),\n",
              "        37],\n",
              "       [list(['access', 'article', 'byncnd', 'license', 'httpcreativecommonsorglicensesbyncnd40']),\n",
              "        36],\n",
              "       [list(['published', 'elsevier', 'open', 'access', 'article']), 36],\n",
              "       [list(['neurourol', 'urodynam', 'wiley', 'periodical', 'inc']),\n",
              "        35],\n",
              "       [list(['ltd', 'open', 'access', 'article', 'byncnd']), 35],\n",
              "       [list(['nonsmall', 'cell', 'lung', 'cancer', 'nsclc']), 34],\n",
              "       [list(['lower', 'urinary', 'tract', 'symptom', 'luts']), 34],\n",
              "       [list(['author', 'published', 'elsevier', 'ltd', 'open']), 34],\n",
              "       [list(['crown', 'copyright', 'published', 'elsevier', 'ltd']), 33],\n",
              "       [list(['application', 'elsevier', 'ltd', 'right', 'reserved']),\n",
              "        33],\n",
              "       [list(['published', 'elsevier', 'masson', 'right', 'reserved']),\n",
              "        33],\n",
              "       [list(['mean', 'age', 'year', 'range', 'year']), 33],\n",
              "       [list(['elsevier', 'inc', 'right', 'reserved', 'study']), 33],\n",
              "       [list(['elsevier', 'ltd', 'right', 'reserved', 'recent']), 32],\n",
              "       [list(['elsevier', 'espana', 'slu', 'right', 'reserved']), 32],\n",
              "       [list(['american', 'society', 'bone', 'mineral', 'research']), 32],\n",
              "       [list(['elsevier', 'ltd', 'right', 'reserved', 'research']), 32],\n",
              "       [list(['published', 'john', 'wiley', 'son', 'ltd']), 32],\n",
              "       [list(['elsevier', 'ltd', 'right', 'reserved', 'purpose']), 31],\n",
              "       [list(['automatic', 'control', 'hosting', 'elsevier', 'ltd']), 31],\n",
              "       [list(['realtime', 'quantitative', 'polymerase', 'chain', 'reaction']),\n",
              "        31],\n",
              "       [list(['elsevier', 'ltd', 'selection', 'peerreview', 'responsibility']),\n",
              "        30],\n",
              "       [list(['peripheral', 'blood', 'mononuclear', 'cell', 'pbmcs']),\n",
              "        30],\n",
              "       [list(['disorder', 'elsevier', 'ltd', 'right', 'reserved']), 30],\n",
              "       [list(['federation', 'automatic', 'control', 'hosting', 'elsevier']),\n",
              "        30],\n",
              "       [list(['method', 'elsevier', 'ltd', 'right', 'reserved']), 30],\n",
              "       [list(['reverse', 'transcriptionpolymerase', 'chain', 'reaction', 'rtpcr']),\n",
              "        30],\n",
              "       [list(['author', 'published', 'elsevier', 'open', 'access']), 30],\n",
              "       [list(['vascular', 'endothelial', 'growth', 'factor', 'vegf']),\n",
              "        30],\n",
              "       [list(['ifac', 'international', 'federation', 'automatic', 'control']),\n",
              "        30],\n",
              "       [list(['published', 'elsevier', 'right', 'reserved', 'background']),\n",
              "        30],\n",
              "       [list(['published', 'elsevier', 'ltd', 'selection', 'peerreview']),\n",
              "        30],\n",
              "       [list(['international', 'federation', 'automatic', 'control', 'hosting']),\n",
              "        30],\n",
              "       [list(['academy', 'allergy', 'asthma', 'immunology', 'background']),\n",
              "        29],\n",
              "       [list(['author', 'published', 'elsevier', 'ltd', 'selection']),\n",
              "        29],\n",
              "       [list(['leadership', 'energy', 'environmental', 'design', 'leed']),\n",
              "        29],\n",
              "       [list(['society', 'photooptical', 'instrumentation', 'engineer', 'spie']),\n",
              "        29],\n",
              "       [list(['condition', 'elsevier', 'ltd', 'right', 'reserved']), 29],\n",
              "       [list(['copyright', 'published', 'elsevier', 'ltd', 'right']), 29],\n",
              "       [list(['realtime', 'polymerase', 'chain', 'reaction', 'pcr']), 29],\n",
              "       [list(['elsevier', 'masson', 'right', 'reserved', 'objective']),\n",
              "        28],\n",
              "       [list(['health', 'inc', 'right', 'reserved', 'objective']), 28],\n",
              "       [list(['quantitative', 'reverse', 'transcription', 'polymerase', 'chain']),\n",
              "        28],\n",
              "       [list(['attention', 'deficit', 'hyperactivity', 'disorder', 'adhd']),\n",
              "        28],\n",
              "       [list(['elsevier', 'right', 'reserved', 'background', 'aim']), 28],\n",
              "       [list(['author', 'published', 'elsevier', 'ltd', 'paper']), 27],\n",
              "       [list(['school', 'aerospace', 'mechanical', 'manufacturing', 'engineering']),\n",
              "        27],\n",
              "       [list(['adjusted', 'odds', 'ratio', 'aor', 'confidence']), 27],\n",
              "       [list(['elsevier', 'ltd', 'right', 'reserved', 'article']), 27],\n",
              "       [list(['international', 'society', 'autism', 'research', 'wiley']),\n",
              "        27],\n",
              "       [list(['society', 'autism', 'research', 'wiley', 'periodical']),\n",
              "        27],\n",
              "       [list(['autism', 'research', 'wiley', 'periodical', 'inc']), 27],\n",
              "       [list(['odds', 'ratio', 'aor', 'confidence', 'interval']), 27],\n",
              "       [list(['american', 'society', 'civil', 'engineer', 'paper']), 26],\n",
              "       [list(['elsevier', 'inc', 'right', 'reserved', 'aim']), 26],\n",
              "       [list(['mechanical', 'manufacturing', 'engineering', 'rmit', 'university']),\n",
              "        26],\n",
              "       [list(['john', 'wiley', 'son', 'ltd', 'eating']), 26],\n",
              "       [list(['nonalcoholic', 'fatty', 'liver', 'disease', 'nafld']), 26],\n",
              "       [list(['acta', 'materialia', 'inc', 'published', 'elsevier']), 26],\n",
              "       [list(['materialia', 'inc', 'published', 'elsevier', 'ltd']), 26],\n",
              "       [list(['inc', 'published', 'elsevier', 'ltd', 'right']), 26],\n",
              "       [list(['distributed', 'program', 'including', 'test', 'data']),\n",
              "        26],\n",
              "       [list(['program', 'including', 'test', 'data', 'etc']), 26],\n",
              "       [list(['disease', 'elsevier', 'inc', 'right', 'reserved']), 26],\n",
              "       [list(['aerospace', 'mechanical', 'manufacturing', 'engineering', 'rmit']),\n",
              "        26],\n",
              "       [list(['published', 'elsevier', 'ireland', 'ltd', 'right']), 26],\n",
              "       [list(['realtime', 'polymerase', 'chain', 'reaction', 'qrtpcr']),\n",
              "        26],\n",
              "       [list(['wiley', 'son', 'ltd', 'eating', 'disorder']), 26],\n",
              "       [list(['ltd', 'selection', 'peerreview', 'responsibility', 'school']),\n",
              "        26],\n",
              "       [list(['selection', 'peerreview', 'responsibility', 'school', 'aerospace']),\n",
              "        26],\n",
              "       [list(['peerreview', 'responsibility', 'school', 'aerospace', 'mechanical']),\n",
              "        26],\n",
              "       [list(['responsibility', 'school', 'aerospace', 'mechanical', 'manufacturing']),\n",
              "        26],\n",
              "       [list(['adolescent', 'health', 'medicine', 'right', 'reserved']),\n",
              "        25],\n",
              "       [list(['society', 'adolescent', 'health', 'medicine', 'right']),\n",
              "        25],\n",
              "       [list(['son', 'ltd', 'eating', 'disorder', 'association']), 25],\n",
              "       [list(['isa', 'published', 'elsevier', 'ltd', 'right']), 25],\n",
              "       [list(['polymerase', 'chain', 'reaction', 'western', 'blot']), 25],\n",
              "       [list(['bath', 'ankylosing', 'spondylitis', 'disease', 'activity']),\n",
              "        25],\n",
              "       [list(['fourier', 'transform', 'infrared', 'spectroscopy', 'ftir']),\n",
              "        25],\n",
              "       [list(['proportional', 'integral', 'derivative', 'pid', 'controller']),\n",
              "        25],\n",
              "       [list(['field', 'programmable', 'gate', 'array', 'fpga']), 25],\n",
              "       [list(['experimental', 'result', 'show', 'proposed', 'method']),\n",
              "        25],\n",
              "       [list(['discussed', 'elsevier', 'inc', 'right', 'reserved']), 25]],\n",
              "      dtype=object)"
            ]
          },
          "metadata": {},
          "execution_count": 50
        }
      ]
    }
  ]
}