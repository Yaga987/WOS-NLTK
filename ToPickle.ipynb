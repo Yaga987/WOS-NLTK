{
  "nbformat": 4,
  "nbformat_minor": 0,
  "metadata": {
    "colab": {
      "provenance": [],
      "collapsed_sections": []
    },
    "kernelspec": {
      "name": "python3",
      "display_name": "Python 3"
    },
    "language_info": {
      "name": "python"
    },
    "gpuClass": "standard"
  },
  "cells": [
    {
      "cell_type": "code",
      "execution_count": null,
      "metadata": {
        "id": "LDGol8b9fG_p"
      },
      "outputs": [],
      "source": [
        "import pandas as pd\n",
        "import json"
      ]
    },
    {
      "cell_type": "code",
      "source": [
        "with open('/content/drive/MyDrive/WS/Çıktılar/DataUni.json', 'r', encoding='utf-8')as f:\n",
        "     data = pd.DataFrame(f)\n",
        "     # print(data)\n",
        "     data.to_pickle('/content/drive/MyDrive/WS/Çıktılar/PickleDataUni.pkl')"
      ],
      "metadata": {
        "id": "CE9LuRlafW7Y"
      },
      "execution_count": null,
      "outputs": []
    },
    {
      "cell_type": "code",
      "source": [
        "with open('/content/drive/MyDrive/WS/Çıktılar/DataBigrams.json', 'r', encoding='utf-8')as f:\n",
        "     data = pd.DataFrame(f)\n",
        "     # print(data)\n",
        "     data.to_pickle('/content/drive/MyDrive/WS/Çıktılar/PickleDataBi.pkl')"
      ],
      "metadata": {
        "id": "UgDylLbeffY4"
      },
      "execution_count": null,
      "outputs": []
    },
    {
      "cell_type": "code",
      "source": [
        "with open('/content/drive/MyDrive/WS/Çıktılar/DataTrigrams.json', 'r', encoding='utf-8')as f:\n",
        "     data = pd.DataFrame(f)\n",
        "     # print(data)\n",
        "     data.to_pickle('/content/drive/MyDrive/WS/Çıktılar/PickleDataTri.pkl')"
      ],
      "metadata": {
        "id": "vQBXTMYwfiCx"
      },
      "execution_count": null,
      "outputs": []
    },
    {
      "cell_type": "code",
      "source": [
        "with open('/content/drive/MyDrive/WS/Çıktılar/DataN4grams.json', 'r', encoding='utf-8')as f:\n",
        "     data = pd.DataFrame(f)\n",
        "     # print(data)\n",
        "     data.to_pickle('/content/drive/MyDrive/WS/Çıktılar/PickleDataN4.pkl')"
      ],
      "metadata": {
        "id": "UCEDK_LzfkFI"
      },
      "execution_count": null,
      "outputs": []
    },
    {
      "cell_type": "code",
      "source": [
        "with open('/content/drive/MyDrive/WS/Çıktılar/DataN5grams.json', 'r', encoding='utf-8')as f:\n",
        "     data = pd.DataFrame(f)\n",
        "     # print(data)\n",
        "     data.to_pickle('/content/drive/MyDrive/WS/Çıktılar/PickleDataN5.pkl')"
      ],
      "metadata": {
        "id": "bqeU25rYDQw4"
      },
      "execution_count": null,
      "outputs": []
    },
    {
      "cell_type": "code",
      "source": [
        "with open('/content/drive/MyDrive/WS/Çıktılar/PickleDataUni.json', 'w', encoding='utf-8')as c:\n",
        "    unpickled_df = pd.read_pickle('/content/drive/MyDrive/WS/Çıktılar/PickleDataUni.pkl')\n",
        "    c.write(str(unpickled_df))"
      ],
      "metadata": {
        "id": "xOlghyX_fXhB"
      },
      "execution_count": null,
      "outputs": []
    },
    {
      "cell_type": "code",
      "source": [
        "with open('/content/drive/MyDrive/WS/Çıktılar/PickleDataBi.json', 'w', encoding='utf-8')as c:\n",
        "    unpickled_df = pd.read_pickle('/content/drive/MyDrive/WS/Çıktılar/PickleDataBi.pkl')\n",
        "    c.write(str(unpickled_df))"
      ],
      "metadata": {
        "id": "kJUrhdprfm64"
      },
      "execution_count": null,
      "outputs": []
    },
    {
      "cell_type": "code",
      "source": [
        "with open('/content/drive/MyDrive/WS/Çıktılar/PickleDataTri.json', 'w', encoding='utf-8')as c:\n",
        "    unpickled_df = pd.read_pickle('/content/drive/MyDrive/WS/Çıktılar/PickleDataTri.pkl')\n",
        "    c.write(str(unpickled_df))"
      ],
      "metadata": {
        "id": "tZ9pPgWVfn0Q"
      },
      "execution_count": null,
      "outputs": []
    },
    {
      "cell_type": "code",
      "source": [
        "with open('/content/drive/MyDrive/WS/Çıktılar/PickleDataN4.json', 'w', encoding='utf-8')as c:\n",
        "    unpickled_df = pd.read_pickle('/content/drive/MyDrive/WS/Çıktılar/PickleDataN4.pkl')\n",
        "    c.write(str(unpickled_df))"
      ],
      "metadata": {
        "id": "6-dWQhb4foia"
      },
      "execution_count": null,
      "outputs": []
    },
    {
      "cell_type": "code",
      "source": [
        "with open('/content/drive/MyDrive/WS/Çıktılar/PickleDataN5.json', 'w', encoding='utf-8')as c:\n",
        "    unpickled_df = pd.read_pickle('/content/drive/MyDrive/WS/Çıktılar/PickleDataN5.pkl')\n",
        "    c.write(str(unpickled_df))"
      ],
      "metadata": {
        "id": "ss7y5p4fDaLw"
      },
      "execution_count": null,
      "outputs": []
    },
    {
      "cell_type": "code",
      "source": [
        "f.close()\n",
        "c.close()"
      ],
      "metadata": {
        "id": "CWY-g2ROgxj4"
      },
      "execution_count": null,
      "outputs": []
    }
  ]
}